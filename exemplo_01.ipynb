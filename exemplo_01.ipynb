{
  "nbformat": 4,
  "nbformat_minor": 0,
  "metadata": {
    "colab": {
      "name": "exemplo_01",
      "provenance": [],
      "authorship_tag": "ABX9TyOXkbFb0mye3WD3chlSnSpa",
      "include_colab_link": true
    },
    "kernelspec": {
      "name": "python3",
      "display_name": "Python 3"
    }
  },
  "cells": [
    {
      "cell_type": "markdown",
      "metadata": {
        "id": "view-in-github",
        "colab_type": "text"
      },
      "source": [
        "<a href=\"https://colab.research.google.com/github/JoaoFatal/repo01/blob/master/exemplo_01.ipynb\" target=\"_parent\"><img src=\"https://colab.research.google.com/assets/colab-badge.svg\" alt=\"Open In Colab\"/></a>"
      ]
    },
    {
      "cell_type": "code",
      "metadata": {
        "id": "iMpMcajlxHmJ",
        "colab_type": "code",
        "colab": {
          "base_uri": "https://localhost:8080/",
          "height": 68
        },
        "outputId": "423c2417-9c3f-43b0-d3cc-cc5bb50d4329"
      },
      "source": [
        "### Isto é um comando de saída\n",
        "print('Olá mundo cruel!!!')\n",
        "print('Cruel World!')\n",
        "print(\"'com aspas duplas'\")\n",
        "\n",
        "# a hashtag é um comentário no código, o programa não irá processar nenhuma linha que estiver marcada\n",
        "# o comando print() mostra na tela, ou seja, é uma saída de valores\n",
        "# o conteúdo texto deve estar entre aspas (simples ou dupla)"
      ],
      "execution_count": 3,
      "outputs": [
        {
          "output_type": "stream",
          "text": [
            "Olá mundo cruel!!!\n",
            "Cruel World!\n",
            "'com aspas duplas'\n"
          ],
          "name": "stdout"
        }
      ]
    },
    {
      "cell_type": "markdown",
      "metadata": {
        "id": "5akQVnHl5WXd",
        "colab_type": "text"
      },
      "source": [
        "Esta célula somente de texto. Aqui posso fazer formatações usando as ferramentas que estão na barra. Por exemplo, ***isto esta em negrito*** Isso é *itálico*\n",
        "Abaixo, vamos ver como mesclar uma saída de tela.\n"
      ]
    },
    {
      "cell_type": "code",
      "metadata": {
        "id": "v_S-eMYb53PK",
        "colab_type": "code",
        "colab": {
          "base_uri": "https://localhost:8080/",
          "height": 34
        },
        "outputId": "861d2b9d-60a3-4fd9-fdec-b563f700988a"
      },
      "source": [
        "print('Joao' , 'Vitor')"
      ],
      "execution_count": 4,
      "outputs": [
        {
          "output_type": "stream",
          "text": [
            "Joao Vitor\n"
          ],
          "name": "stdout"
        }
      ]
    },
    {
      "cell_type": "code",
      "metadata": {
        "id": "WRZUshkK8A2T",
        "colab_type": "code",
        "colab": {}
      },
      "source": [
        ""
      ],
      "execution_count": null,
      "outputs": []
    }
  ]
}